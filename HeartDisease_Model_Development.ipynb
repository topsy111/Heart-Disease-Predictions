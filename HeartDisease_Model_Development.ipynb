{
 "cells": [
  {
   "cell_type": "markdown",
   "metadata": {},
   "source": [
    "## Supervised Model Development Template\n"
   ]
  },
  {
   "cell_type": "markdown",
   "metadata": {},
   "source": [
    "### Import Python libraries"
   ]
  },
  {
   "cell_type": "code",
   "execution_count": 1,
   "metadata": {
    "tags": []
   },
   "outputs": [],
   "source": [
    "import pandas as pd\n",
    "\n",
    "import sweetviz as sv\n",
    "\n",
    "from mitosheet import *;\n",
    "\n",
    "from pycaret.classification import *\n",
    "#from pycaret.regression import *"
   ]
  },
  {
   "cell_type": "markdown",
   "metadata": {},
   "source": [
    "### Read CSV file and check dataframe"
   ]
  },
  {
   "cell_type": "code",
   "execution_count": 2,
   "metadata": {
    "pycharm": {
     "name": "#%%\n"
    },
    "tags": []
   },
   "outputs": [],
   "source": [
    "#Read CSV file into a dataframe\n",
    "allData = pd.read_csv('HeartDiseaseEDA.csv')"
   ]
  },
  {
   "cell_type": "code",
   "execution_count": 3,
   "metadata": {
    "pycharm": {
     "name": "#%%\n"
    },
    "tags": []
   },
   "outputs": [
    {
     "name": "stdout",
     "output_type": "stream",
     "text": [
      "<class 'pandas.core.frame.DataFrame'>\n",
      "RangeIndex: 918 entries, 0 to 917\n",
      "Data columns (total 11 columns):\n",
      " #   Column              Non-Null Count  Dtype  \n",
      "---  ------              --------------  -----  \n",
      " 0   Age                 918 non-null    int64  \n",
      " 1   Age-Classification  918 non-null    object \n",
      " 2   Sex                 918 non-null    object \n",
      " 3   ChestPainType       918 non-null    object \n",
      " 4   RestingBP           918 non-null    int64  \n",
      " 5   Cholesterol         918 non-null    int64  \n",
      " 6   MaxHR               918 non-null    int64  \n",
      " 7   ExerciseAngina      918 non-null    object \n",
      " 8   Oldpeak             918 non-null    float64\n",
      " 9   ST_Slope            918 non-null    object \n",
      " 10  HeartDisease        918 non-null    int64  \n",
      "dtypes: float64(1), int64(5), object(5)\n",
      "memory usage: 79.0+ KB\n"
     ]
    }
   ],
   "source": [
    "# Get dataframe information\n",
    "allData.info()"
   ]
  },
  {
   "cell_type": "code",
   "execution_count": 4,
   "metadata": {
    "tags": []
   },
   "outputs": [
    {
     "data": {
      "text/html": [
       "<div>\n",
       "<style scoped>\n",
       "    .dataframe tbody tr th:only-of-type {\n",
       "        vertical-align: middle;\n",
       "    }\n",
       "\n",
       "    .dataframe tbody tr th {\n",
       "        vertical-align: top;\n",
       "    }\n",
       "\n",
       "    .dataframe thead th {\n",
       "        text-align: right;\n",
       "    }\n",
       "</style>\n",
       "<table border=\"1\" class=\"dataframe\">\n",
       "  <thead>\n",
       "    <tr style=\"text-align: right;\">\n",
       "      <th></th>\n",
       "      <th>Age</th>\n",
       "      <th>Age-Classification</th>\n",
       "      <th>Sex</th>\n",
       "      <th>ChestPainType</th>\n",
       "      <th>RestingBP</th>\n",
       "      <th>Cholesterol</th>\n",
       "      <th>MaxHR</th>\n",
       "      <th>ExerciseAngina</th>\n",
       "      <th>Oldpeak</th>\n",
       "      <th>ST_Slope</th>\n",
       "      <th>HeartDisease</th>\n",
       "    </tr>\n",
       "  </thead>\n",
       "  <tbody>\n",
       "    <tr>\n",
       "      <th>0</th>\n",
       "      <td>40</td>\n",
       "      <td>Youth</td>\n",
       "      <td>M</td>\n",
       "      <td>ATA</td>\n",
       "      <td>140</td>\n",
       "      <td>289</td>\n",
       "      <td>172</td>\n",
       "      <td>N</td>\n",
       "      <td>0.0</td>\n",
       "      <td>Up</td>\n",
       "      <td>0</td>\n",
       "    </tr>\n",
       "    <tr>\n",
       "      <th>1</th>\n",
       "      <td>49</td>\n",
       "      <td>Adults</td>\n",
       "      <td>F</td>\n",
       "      <td>NAP</td>\n",
       "      <td>160</td>\n",
       "      <td>180</td>\n",
       "      <td>156</td>\n",
       "      <td>N</td>\n",
       "      <td>1.0</td>\n",
       "      <td>Flat</td>\n",
       "      <td>1</td>\n",
       "    </tr>\n",
       "    <tr>\n",
       "      <th>2</th>\n",
       "      <td>37</td>\n",
       "      <td>Youth</td>\n",
       "      <td>M</td>\n",
       "      <td>ATA</td>\n",
       "      <td>130</td>\n",
       "      <td>283</td>\n",
       "      <td>98</td>\n",
       "      <td>N</td>\n",
       "      <td>0.0</td>\n",
       "      <td>Up</td>\n",
       "      <td>0</td>\n",
       "    </tr>\n",
       "    <tr>\n",
       "      <th>3</th>\n",
       "      <td>48</td>\n",
       "      <td>Adults</td>\n",
       "      <td>F</td>\n",
       "      <td>ASY</td>\n",
       "      <td>138</td>\n",
       "      <td>214</td>\n",
       "      <td>108</td>\n",
       "      <td>Y</td>\n",
       "      <td>1.5</td>\n",
       "      <td>Flat</td>\n",
       "      <td>1</td>\n",
       "    </tr>\n",
       "    <tr>\n",
       "      <th>4</th>\n",
       "      <td>54</td>\n",
       "      <td>Adults</td>\n",
       "      <td>M</td>\n",
       "      <td>NAP</td>\n",
       "      <td>150</td>\n",
       "      <td>195</td>\n",
       "      <td>122</td>\n",
       "      <td>N</td>\n",
       "      <td>0.0</td>\n",
       "      <td>Up</td>\n",
       "      <td>0</td>\n",
       "    </tr>\n",
       "    <tr>\n",
       "      <th>...</th>\n",
       "      <td>...</td>\n",
       "      <td>...</td>\n",
       "      <td>...</td>\n",
       "      <td>...</td>\n",
       "      <td>...</td>\n",
       "      <td>...</td>\n",
       "      <td>...</td>\n",
       "      <td>...</td>\n",
       "      <td>...</td>\n",
       "      <td>...</td>\n",
       "      <td>...</td>\n",
       "    </tr>\n",
       "    <tr>\n",
       "      <th>913</th>\n",
       "      <td>45</td>\n",
       "      <td>Youth</td>\n",
       "      <td>M</td>\n",
       "      <td>TA</td>\n",
       "      <td>110</td>\n",
       "      <td>264</td>\n",
       "      <td>132</td>\n",
       "      <td>N</td>\n",
       "      <td>1.2</td>\n",
       "      <td>Flat</td>\n",
       "      <td>1</td>\n",
       "    </tr>\n",
       "    <tr>\n",
       "      <th>914</th>\n",
       "      <td>68</td>\n",
       "      <td>Old</td>\n",
       "      <td>M</td>\n",
       "      <td>ASY</td>\n",
       "      <td>144</td>\n",
       "      <td>193</td>\n",
       "      <td>141</td>\n",
       "      <td>N</td>\n",
       "      <td>3.4</td>\n",
       "      <td>Flat</td>\n",
       "      <td>1</td>\n",
       "    </tr>\n",
       "    <tr>\n",
       "      <th>915</th>\n",
       "      <td>57</td>\n",
       "      <td>Adults</td>\n",
       "      <td>M</td>\n",
       "      <td>ASY</td>\n",
       "      <td>130</td>\n",
       "      <td>131</td>\n",
       "      <td>115</td>\n",
       "      <td>Y</td>\n",
       "      <td>1.2</td>\n",
       "      <td>Flat</td>\n",
       "      <td>1</td>\n",
       "    </tr>\n",
       "    <tr>\n",
       "      <th>916</th>\n",
       "      <td>57</td>\n",
       "      <td>Adults</td>\n",
       "      <td>F</td>\n",
       "      <td>ATA</td>\n",
       "      <td>130</td>\n",
       "      <td>236</td>\n",
       "      <td>174</td>\n",
       "      <td>N</td>\n",
       "      <td>0.0</td>\n",
       "      <td>Flat</td>\n",
       "      <td>1</td>\n",
       "    </tr>\n",
       "    <tr>\n",
       "      <th>917</th>\n",
       "      <td>38</td>\n",
       "      <td>Youth</td>\n",
       "      <td>M</td>\n",
       "      <td>NAP</td>\n",
       "      <td>138</td>\n",
       "      <td>175</td>\n",
       "      <td>173</td>\n",
       "      <td>N</td>\n",
       "      <td>0.0</td>\n",
       "      <td>Up</td>\n",
       "      <td>0</td>\n",
       "    </tr>\n",
       "  </tbody>\n",
       "</table>\n",
       "<p>918 rows × 11 columns</p>\n",
       "</div>"
      ],
      "text/plain": [
       "     Age Age-Classification Sex ChestPainType  RestingBP  Cholesterol  MaxHR  \\\n",
       "0     40              Youth   M           ATA        140          289    172   \n",
       "1     49             Adults   F           NAP        160          180    156   \n",
       "2     37              Youth   M           ATA        130          283     98   \n",
       "3     48             Adults   F           ASY        138          214    108   \n",
       "4     54             Adults   M           NAP        150          195    122   \n",
       "..   ...                ...  ..           ...        ...          ...    ...   \n",
       "913   45              Youth   M            TA        110          264    132   \n",
       "914   68                Old   M           ASY        144          193    141   \n",
       "915   57             Adults   M           ASY        130          131    115   \n",
       "916   57             Adults   F           ATA        130          236    174   \n",
       "917   38              Youth   M           NAP        138          175    173   \n",
       "\n",
       "    ExerciseAngina  Oldpeak ST_Slope  HeartDisease  \n",
       "0                N      0.0       Up             0  \n",
       "1                N      1.0     Flat             1  \n",
       "2                N      0.0       Up             0  \n",
       "3                Y      1.5     Flat             1  \n",
       "4                N      0.0       Up             0  \n",
       "..             ...      ...      ...           ...  \n",
       "913              N      1.2     Flat             1  \n",
       "914              N      3.4     Flat             1  \n",
       "915              Y      1.2     Flat             1  \n",
       "916              N      0.0     Flat             1  \n",
       "917              N      0.0       Up             0  \n",
       "\n",
       "[918 rows x 11 columns]"
      ]
     },
     "execution_count": 4,
     "metadata": {},
     "output_type": "execute_result"
    }
   ],
   "source": [
    "allData"
   ]
  },
  {
   "cell_type": "markdown",
   "metadata": {},
   "source": [
    "### Split data into modelling and unseen prediction data\n",
    "\n",
    "90% for modelling, 10% unseen prediction data"
   ]
  },
  {
   "cell_type": "code",
   "execution_count": 5,
   "metadata": {
    "pycharm": {
     "name": "#%%\n"
    },
    "tags": []
   },
   "outputs": [
    {
     "name": "stdout",
     "output_type": "stream",
     "text": [
      "Data for Modeling: (826, 11)\n",
      "Unseen Data For Predictions: (92, 11)\n"
     ]
    }
   ],
   "source": [
    "data = allData.sample(frac=0.9, random_state=42)\n",
    "evaluationData = allData.drop(data.index)\n",
    "\n",
    "data.reset_index(drop=True, inplace=True)\n",
    "evaluationData.reset_index(drop=True, inplace=True)\n",
    "\n",
    "print('Data for Modeling: ' + str(data.shape))\n",
    "print('Unseen Data For Predictions: ' + str(evaluationData.shape))"
   ]
  },
  {
   "cell_type": "markdown",
   "metadata": {},
   "source": [
    "## Setup Pycaret environment/data pre-processing\n",
    "The following environment setup was used.\n",
    "\n",
    "train_size-Setting the train size to 80% and the test size to 20%\n",
    "target-setting the target to be the HeartDisease\n",
    "session_id-setting the session_id to be 42"
   ]
  },
  {
   "cell_type": "code",
   "execution_count": 6,
   "metadata": {
    "pycharm": {
     "name": "#%%\n"
    },
    "tags": []
   },
   "outputs": [
    {
     "data": {
      "text/html": [
       "<style type=\"text/css\">\n",
       "#T_4782e_row10_col1 {\n",
       "  background-color: lightgreen;\n",
       "}\n",
       "</style>\n",
       "<table id=\"T_4782e\">\n",
       "  <thead>\n",
       "    <tr>\n",
       "      <th class=\"blank level0\" >&nbsp;</th>\n",
       "      <th id=\"T_4782e_level0_col0\" class=\"col_heading level0 col0\" >Description</th>\n",
       "      <th id=\"T_4782e_level0_col1\" class=\"col_heading level0 col1\" >Value</th>\n",
       "    </tr>\n",
       "  </thead>\n",
       "  <tbody>\n",
       "    <tr>\n",
       "      <th id=\"T_4782e_level0_row0\" class=\"row_heading level0 row0\" >0</th>\n",
       "      <td id=\"T_4782e_row0_col0\" class=\"data row0 col0\" >Session id</td>\n",
       "      <td id=\"T_4782e_row0_col1\" class=\"data row0 col1\" >42</td>\n",
       "    </tr>\n",
       "    <tr>\n",
       "      <th id=\"T_4782e_level0_row1\" class=\"row_heading level0 row1\" >1</th>\n",
       "      <td id=\"T_4782e_row1_col0\" class=\"data row1 col0\" >Target</td>\n",
       "      <td id=\"T_4782e_row1_col1\" class=\"data row1 col1\" >HeartDisease</td>\n",
       "    </tr>\n",
       "    <tr>\n",
       "      <th id=\"T_4782e_level0_row2\" class=\"row_heading level0 row2\" >2</th>\n",
       "      <td id=\"T_4782e_row2_col0\" class=\"data row2 col0\" >Target type</td>\n",
       "      <td id=\"T_4782e_row2_col1\" class=\"data row2 col1\" >Binary</td>\n",
       "    </tr>\n",
       "    <tr>\n",
       "      <th id=\"T_4782e_level0_row3\" class=\"row_heading level0 row3\" >3</th>\n",
       "      <td id=\"T_4782e_row3_col0\" class=\"data row3 col0\" >Original data shape</td>\n",
       "      <td id=\"T_4782e_row3_col1\" class=\"data row3 col1\" >(826, 11)</td>\n",
       "    </tr>\n",
       "    <tr>\n",
       "      <th id=\"T_4782e_level0_row4\" class=\"row_heading level0 row4\" >4</th>\n",
       "      <td id=\"T_4782e_row4_col0\" class=\"data row4 col0\" >Transformed data shape</td>\n",
       "      <td id=\"T_4782e_row4_col1\" class=\"data row4 col1\" >(826, 18)</td>\n",
       "    </tr>\n",
       "    <tr>\n",
       "      <th id=\"T_4782e_level0_row5\" class=\"row_heading level0 row5\" >5</th>\n",
       "      <td id=\"T_4782e_row5_col0\" class=\"data row5 col0\" >Transformed train set shape</td>\n",
       "      <td id=\"T_4782e_row5_col1\" class=\"data row5 col1\" >(660, 18)</td>\n",
       "    </tr>\n",
       "    <tr>\n",
       "      <th id=\"T_4782e_level0_row6\" class=\"row_heading level0 row6\" >6</th>\n",
       "      <td id=\"T_4782e_row6_col0\" class=\"data row6 col0\" >Transformed test set shape</td>\n",
       "      <td id=\"T_4782e_row6_col1\" class=\"data row6 col1\" >(166, 18)</td>\n",
       "    </tr>\n",
       "    <tr>\n",
       "      <th id=\"T_4782e_level0_row7\" class=\"row_heading level0 row7\" >7</th>\n",
       "      <td id=\"T_4782e_row7_col0\" class=\"data row7 col0\" >Ordinal features</td>\n",
       "      <td id=\"T_4782e_row7_col1\" class=\"data row7 col1\" >2</td>\n",
       "    </tr>\n",
       "    <tr>\n",
       "      <th id=\"T_4782e_level0_row8\" class=\"row_heading level0 row8\" >8</th>\n",
       "      <td id=\"T_4782e_row8_col0\" class=\"data row8 col0\" >Numeric features</td>\n",
       "      <td id=\"T_4782e_row8_col1\" class=\"data row8 col1\" >5</td>\n",
       "    </tr>\n",
       "    <tr>\n",
       "      <th id=\"T_4782e_level0_row9\" class=\"row_heading level0 row9\" >9</th>\n",
       "      <td id=\"T_4782e_row9_col0\" class=\"data row9 col0\" >Categorical features</td>\n",
       "      <td id=\"T_4782e_row9_col1\" class=\"data row9 col1\" >5</td>\n",
       "    </tr>\n",
       "    <tr>\n",
       "      <th id=\"T_4782e_level0_row10\" class=\"row_heading level0 row10\" >10</th>\n",
       "      <td id=\"T_4782e_row10_col0\" class=\"data row10 col0\" >Preprocess</td>\n",
       "      <td id=\"T_4782e_row10_col1\" class=\"data row10 col1\" >True</td>\n",
       "    </tr>\n",
       "    <tr>\n",
       "      <th id=\"T_4782e_level0_row11\" class=\"row_heading level0 row11\" >11</th>\n",
       "      <td id=\"T_4782e_row11_col0\" class=\"data row11 col0\" >Imputation type</td>\n",
       "      <td id=\"T_4782e_row11_col1\" class=\"data row11 col1\" >simple</td>\n",
       "    </tr>\n",
       "    <tr>\n",
       "      <th id=\"T_4782e_level0_row12\" class=\"row_heading level0 row12\" >12</th>\n",
       "      <td id=\"T_4782e_row12_col0\" class=\"data row12 col0\" >Numeric imputation</td>\n",
       "      <td id=\"T_4782e_row12_col1\" class=\"data row12 col1\" >mean</td>\n",
       "    </tr>\n",
       "    <tr>\n",
       "      <th id=\"T_4782e_level0_row13\" class=\"row_heading level0 row13\" >13</th>\n",
       "      <td id=\"T_4782e_row13_col0\" class=\"data row13 col0\" >Categorical imputation</td>\n",
       "      <td id=\"T_4782e_row13_col1\" class=\"data row13 col1\" >mode</td>\n",
       "    </tr>\n",
       "    <tr>\n",
       "      <th id=\"T_4782e_level0_row14\" class=\"row_heading level0 row14\" >14</th>\n",
       "      <td id=\"T_4782e_row14_col0\" class=\"data row14 col0\" >Maximum one-hot encoding</td>\n",
       "      <td id=\"T_4782e_row14_col1\" class=\"data row14 col1\" >25</td>\n",
       "    </tr>\n",
       "    <tr>\n",
       "      <th id=\"T_4782e_level0_row15\" class=\"row_heading level0 row15\" >15</th>\n",
       "      <td id=\"T_4782e_row15_col0\" class=\"data row15 col0\" >Encoding method</td>\n",
       "      <td id=\"T_4782e_row15_col1\" class=\"data row15 col1\" >None</td>\n",
       "    </tr>\n",
       "    <tr>\n",
       "      <th id=\"T_4782e_level0_row16\" class=\"row_heading level0 row16\" >16</th>\n",
       "      <td id=\"T_4782e_row16_col0\" class=\"data row16 col0\" >Fold Generator</td>\n",
       "      <td id=\"T_4782e_row16_col1\" class=\"data row16 col1\" >StratifiedKFold</td>\n",
       "    </tr>\n",
       "    <tr>\n",
       "      <th id=\"T_4782e_level0_row17\" class=\"row_heading level0 row17\" >17</th>\n",
       "      <td id=\"T_4782e_row17_col0\" class=\"data row17 col0\" >Fold Number</td>\n",
       "      <td id=\"T_4782e_row17_col1\" class=\"data row17 col1\" >10</td>\n",
       "    </tr>\n",
       "    <tr>\n",
       "      <th id=\"T_4782e_level0_row18\" class=\"row_heading level0 row18\" >18</th>\n",
       "      <td id=\"T_4782e_row18_col0\" class=\"data row18 col0\" >CPU Jobs</td>\n",
       "      <td id=\"T_4782e_row18_col1\" class=\"data row18 col1\" >-1</td>\n",
       "    </tr>\n",
       "    <tr>\n",
       "      <th id=\"T_4782e_level0_row19\" class=\"row_heading level0 row19\" >19</th>\n",
       "      <td id=\"T_4782e_row19_col0\" class=\"data row19 col0\" >Use GPU</td>\n",
       "      <td id=\"T_4782e_row19_col1\" class=\"data row19 col1\" >False</td>\n",
       "    </tr>\n",
       "    <tr>\n",
       "      <th id=\"T_4782e_level0_row20\" class=\"row_heading level0 row20\" >20</th>\n",
       "      <td id=\"T_4782e_row20_col0\" class=\"data row20 col0\" >Log Experiment</td>\n",
       "      <td id=\"T_4782e_row20_col1\" class=\"data row20 col1\" >False</td>\n",
       "    </tr>\n",
       "    <tr>\n",
       "      <th id=\"T_4782e_level0_row21\" class=\"row_heading level0 row21\" >21</th>\n",
       "      <td id=\"T_4782e_row21_col0\" class=\"data row21 col0\" >Experiment Name</td>\n",
       "      <td id=\"T_4782e_row21_col1\" class=\"data row21 col1\" >clf-default-name</td>\n",
       "    </tr>\n",
       "    <tr>\n",
       "      <th id=\"T_4782e_level0_row22\" class=\"row_heading level0 row22\" >22</th>\n",
       "      <td id=\"T_4782e_row22_col0\" class=\"data row22 col0\" >USI</td>\n",
       "      <td id=\"T_4782e_row22_col1\" class=\"data row22 col1\" >150d</td>\n",
       "    </tr>\n",
       "  </tbody>\n",
       "</table>\n"
      ],
      "text/plain": [
       "<pandas.io.formats.style.Styler at 0x1e4957dfc10>"
      ]
     },
     "metadata": {},
     "output_type": "display_data"
    }
   ],
   "source": [
    "exp_clf = setup(data = data, target = 'HeartDisease',  train_size=0.80,session_id=42)"
   ]
  },
  {
   "cell_type": "markdown",
   "metadata": {},
   "source": [
    "### View new training data"
   ]
  },
  {
   "cell_type": "code",
   "execution_count": 7,
   "metadata": {
    "tags": []
   },
   "outputs": [
    {
     "data": {
      "text/html": [
       "<div>\n",
       "<style scoped>\n",
       "    .dataframe tbody tr th:only-of-type {\n",
       "        vertical-align: middle;\n",
       "    }\n",
       "\n",
       "    .dataframe tbody tr th {\n",
       "        vertical-align: top;\n",
       "    }\n",
       "\n",
       "    .dataframe thead th {\n",
       "        text-align: right;\n",
       "    }\n",
       "</style>\n",
       "<table border=\"1\" class=\"dataframe\">\n",
       "  <thead>\n",
       "    <tr style=\"text-align: right;\">\n",
       "      <th></th>\n",
       "      <th>Age</th>\n",
       "      <th>Age-Classification_Adults</th>\n",
       "      <th>Age-Classification_Youth</th>\n",
       "      <th>Age-Classification_Old</th>\n",
       "      <th>Sex</th>\n",
       "      <th>ChestPainType_ASY</th>\n",
       "      <th>ChestPainType_TA</th>\n",
       "      <th>ChestPainType_NAP</th>\n",
       "      <th>ChestPainType_ATA</th>\n",
       "      <th>RestingBP</th>\n",
       "      <th>Cholesterol</th>\n",
       "      <th>MaxHR</th>\n",
       "      <th>ExerciseAngina</th>\n",
       "      <th>Oldpeak</th>\n",
       "      <th>ST_Slope_Flat</th>\n",
       "      <th>ST_Slope_Up</th>\n",
       "      <th>ST_Slope_Down</th>\n",
       "    </tr>\n",
       "  </thead>\n",
       "  <tbody>\n",
       "    <tr>\n",
       "      <th>342</th>\n",
       "      <td>59.0</td>\n",
       "      <td>1.0</td>\n",
       "      <td>0.0</td>\n",
       "      <td>0.0</td>\n",
       "      <td>1.0</td>\n",
       "      <td>1.0</td>\n",
       "      <td>0.0</td>\n",
       "      <td>0.0</td>\n",
       "      <td>0.0</td>\n",
       "      <td>135.0</td>\n",
       "      <td>234.0</td>\n",
       "      <td>161.0</td>\n",
       "      <td>0.0</td>\n",
       "      <td>0.5</td>\n",
       "      <td>1.0</td>\n",
       "      <td>0.0</td>\n",
       "      <td>0.0</td>\n",
       "    </tr>\n",
       "    <tr>\n",
       "      <th>414</th>\n",
       "      <td>62.0</td>\n",
       "      <td>1.0</td>\n",
       "      <td>0.0</td>\n",
       "      <td>0.0</td>\n",
       "      <td>1.0</td>\n",
       "      <td>0.0</td>\n",
       "      <td>1.0</td>\n",
       "      <td>0.0</td>\n",
       "      <td>0.0</td>\n",
       "      <td>120.0</td>\n",
       "      <td>0.0</td>\n",
       "      <td>134.0</td>\n",
       "      <td>0.0</td>\n",
       "      <td>-0.8</td>\n",
       "      <td>1.0</td>\n",
       "      <td>0.0</td>\n",
       "      <td>0.0</td>\n",
       "    </tr>\n",
       "    <tr>\n",
       "      <th>109</th>\n",
       "      <td>40.0</td>\n",
       "      <td>0.0</td>\n",
       "      <td>1.0</td>\n",
       "      <td>0.0</td>\n",
       "      <td>1.0</td>\n",
       "      <td>0.0</td>\n",
       "      <td>0.0</td>\n",
       "      <td>1.0</td>\n",
       "      <td>0.0</td>\n",
       "      <td>106.0</td>\n",
       "      <td>240.0</td>\n",
       "      <td>80.0</td>\n",
       "      <td>1.0</td>\n",
       "      <td>0.0</td>\n",
       "      <td>0.0</td>\n",
       "      <td>1.0</td>\n",
       "      <td>0.0</td>\n",
       "    </tr>\n",
       "    <tr>\n",
       "      <th>178</th>\n",
       "      <td>39.0</td>\n",
       "      <td>0.0</td>\n",
       "      <td>1.0</td>\n",
       "      <td>0.0</td>\n",
       "      <td>1.0</td>\n",
       "      <td>0.0</td>\n",
       "      <td>0.0</td>\n",
       "      <td>1.0</td>\n",
       "      <td>0.0</td>\n",
       "      <td>160.0</td>\n",
       "      <td>147.0</td>\n",
       "      <td>160.0</td>\n",
       "      <td>0.0</td>\n",
       "      <td>0.0</td>\n",
       "      <td>0.0</td>\n",
       "      <td>1.0</td>\n",
       "      <td>0.0</td>\n",
       "    </tr>\n",
       "    <tr>\n",
       "      <th>371</th>\n",
       "      <td>45.0</td>\n",
       "      <td>0.0</td>\n",
       "      <td>1.0</td>\n",
       "      <td>0.0</td>\n",
       "      <td>1.0</td>\n",
       "      <td>1.0</td>\n",
       "      <td>0.0</td>\n",
       "      <td>0.0</td>\n",
       "      <td>0.0</td>\n",
       "      <td>130.0</td>\n",
       "      <td>219.0</td>\n",
       "      <td>130.0</td>\n",
       "      <td>1.0</td>\n",
       "      <td>1.0</td>\n",
       "      <td>1.0</td>\n",
       "      <td>0.0</td>\n",
       "      <td>0.0</td>\n",
       "    </tr>\n",
       "    <tr>\n",
       "      <th>...</th>\n",
       "      <td>...</td>\n",
       "      <td>...</td>\n",
       "      <td>...</td>\n",
       "      <td>...</td>\n",
       "      <td>...</td>\n",
       "      <td>...</td>\n",
       "      <td>...</td>\n",
       "      <td>...</td>\n",
       "      <td>...</td>\n",
       "      <td>...</td>\n",
       "      <td>...</td>\n",
       "      <td>...</td>\n",
       "      <td>...</td>\n",
       "      <td>...</td>\n",
       "      <td>...</td>\n",
       "      <td>...</td>\n",
       "      <td>...</td>\n",
       "    </tr>\n",
       "    <tr>\n",
       "      <th>328</th>\n",
       "      <td>31.0</td>\n",
       "      <td>0.0</td>\n",
       "      <td>1.0</td>\n",
       "      <td>0.0</td>\n",
       "      <td>1.0</td>\n",
       "      <td>1.0</td>\n",
       "      <td>0.0</td>\n",
       "      <td>0.0</td>\n",
       "      <td>0.0</td>\n",
       "      <td>120.0</td>\n",
       "      <td>270.0</td>\n",
       "      <td>153.0</td>\n",
       "      <td>1.0</td>\n",
       "      <td>1.5</td>\n",
       "      <td>1.0</td>\n",
       "      <td>0.0</td>\n",
       "      <td>0.0</td>\n",
       "    </tr>\n",
       "    <tr>\n",
       "      <th>140</th>\n",
       "      <td>59.0</td>\n",
       "      <td>1.0</td>\n",
       "      <td>0.0</td>\n",
       "      <td>0.0</td>\n",
       "      <td>1.0</td>\n",
       "      <td>1.0</td>\n",
       "      <td>0.0</td>\n",
       "      <td>0.0</td>\n",
       "      <td>0.0</td>\n",
       "      <td>140.0</td>\n",
       "      <td>169.0</td>\n",
       "      <td>140.0</td>\n",
       "      <td>0.0</td>\n",
       "      <td>0.0</td>\n",
       "      <td>0.0</td>\n",
       "      <td>1.0</td>\n",
       "      <td>0.0</td>\n",
       "    </tr>\n",
       "    <tr>\n",
       "      <th>213</th>\n",
       "      <td>50.0</td>\n",
       "      <td>1.0</td>\n",
       "      <td>0.0</td>\n",
       "      <td>0.0</td>\n",
       "      <td>1.0</td>\n",
       "      <td>1.0</td>\n",
       "      <td>0.0</td>\n",
       "      <td>0.0</td>\n",
       "      <td>0.0</td>\n",
       "      <td>145.0</td>\n",
       "      <td>0.0</td>\n",
       "      <td>139.0</td>\n",
       "      <td>1.0</td>\n",
       "      <td>0.7</td>\n",
       "      <td>1.0</td>\n",
       "      <td>0.0</td>\n",
       "      <td>0.0</td>\n",
       "    </tr>\n",
       "    <tr>\n",
       "      <th>550</th>\n",
       "      <td>43.0</td>\n",
       "      <td>0.0</td>\n",
       "      <td>1.0</td>\n",
       "      <td>0.0</td>\n",
       "      <td>0.0</td>\n",
       "      <td>0.0</td>\n",
       "      <td>0.0</td>\n",
       "      <td>0.0</td>\n",
       "      <td>1.0</td>\n",
       "      <td>120.0</td>\n",
       "      <td>201.0</td>\n",
       "      <td>165.0</td>\n",
       "      <td>0.0</td>\n",
       "      <td>0.0</td>\n",
       "      <td>0.0</td>\n",
       "      <td>1.0</td>\n",
       "      <td>0.0</td>\n",
       "    </tr>\n",
       "    <tr>\n",
       "      <th>688</th>\n",
       "      <td>35.0</td>\n",
       "      <td>0.0</td>\n",
       "      <td>1.0</td>\n",
       "      <td>0.0</td>\n",
       "      <td>1.0</td>\n",
       "      <td>1.0</td>\n",
       "      <td>0.0</td>\n",
       "      <td>0.0</td>\n",
       "      <td>0.0</td>\n",
       "      <td>120.0</td>\n",
       "      <td>198.0</td>\n",
       "      <td>130.0</td>\n",
       "      <td>1.0</td>\n",
       "      <td>1.6</td>\n",
       "      <td>1.0</td>\n",
       "      <td>0.0</td>\n",
       "      <td>0.0</td>\n",
       "    </tr>\n",
       "  </tbody>\n",
       "</table>\n",
       "<p>660 rows × 17 columns</p>\n",
       "</div>"
      ],
      "text/plain": [
       "      Age  Age-Classification_Adults  Age-Classification_Youth  \\\n",
       "342  59.0                        1.0                       0.0   \n",
       "414  62.0                        1.0                       0.0   \n",
       "109  40.0                        0.0                       1.0   \n",
       "178  39.0                        0.0                       1.0   \n",
       "371  45.0                        0.0                       1.0   \n",
       "..    ...                        ...                       ...   \n",
       "328  31.0                        0.0                       1.0   \n",
       "140  59.0                        1.0                       0.0   \n",
       "213  50.0                        1.0                       0.0   \n",
       "550  43.0                        0.0                       1.0   \n",
       "688  35.0                        0.0                       1.0   \n",
       "\n",
       "     Age-Classification_Old  Sex  ChestPainType_ASY  ChestPainType_TA  \\\n",
       "342                     0.0  1.0                1.0               0.0   \n",
       "414                     0.0  1.0                0.0               1.0   \n",
       "109                     0.0  1.0                0.0               0.0   \n",
       "178                     0.0  1.0                0.0               0.0   \n",
       "371                     0.0  1.0                1.0               0.0   \n",
       "..                      ...  ...                ...               ...   \n",
       "328                     0.0  1.0                1.0               0.0   \n",
       "140                     0.0  1.0                1.0               0.0   \n",
       "213                     0.0  1.0                1.0               0.0   \n",
       "550                     0.0  0.0                0.0               0.0   \n",
       "688                     0.0  1.0                1.0               0.0   \n",
       "\n",
       "     ChestPainType_NAP  ChestPainType_ATA  RestingBP  Cholesterol  MaxHR  \\\n",
       "342                0.0                0.0      135.0        234.0  161.0   \n",
       "414                0.0                0.0      120.0          0.0  134.0   \n",
       "109                1.0                0.0      106.0        240.0   80.0   \n",
       "178                1.0                0.0      160.0        147.0  160.0   \n",
       "371                0.0                0.0      130.0        219.0  130.0   \n",
       "..                 ...                ...        ...          ...    ...   \n",
       "328                0.0                0.0      120.0        270.0  153.0   \n",
       "140                0.0                0.0      140.0        169.0  140.0   \n",
       "213                0.0                0.0      145.0          0.0  139.0   \n",
       "550                0.0                1.0      120.0        201.0  165.0   \n",
       "688                0.0                0.0      120.0        198.0  130.0   \n",
       "\n",
       "     ExerciseAngina  Oldpeak  ST_Slope_Flat  ST_Slope_Up  ST_Slope_Down  \n",
       "342             0.0      0.5            1.0          0.0            0.0  \n",
       "414             0.0     -0.8            1.0          0.0            0.0  \n",
       "109             1.0      0.0            0.0          1.0            0.0  \n",
       "178             0.0      0.0            0.0          1.0            0.0  \n",
       "371             1.0      1.0            1.0          0.0            0.0  \n",
       "..              ...      ...            ...          ...            ...  \n",
       "328             1.0      1.5            1.0          0.0            0.0  \n",
       "140             0.0      0.0            0.0          1.0            0.0  \n",
       "213             1.0      0.7            1.0          0.0            0.0  \n",
       "550             0.0      0.0            0.0          1.0            0.0  \n",
       "688             1.0      1.6            1.0          0.0            0.0  \n",
       "\n",
       "[660 rows x 17 columns]"
      ]
     },
     "execution_count": 7,
     "metadata": {},
     "output_type": "execute_result"
    }
   ],
   "source": [
    "Xtrain = get_config('X_train_transformed')\n",
    "Xtrain"
   ]
  },
  {
   "cell_type": "markdown",
   "metadata": {},
   "source": [
    "### Compare models"
   ]
  },
  {
   "cell_type": "code",
   "execution_count": null,
   "metadata": {
    "pycharm": {
     "name": "#%%\n"
    },
    "tags": []
   },
   "outputs": [
    {
     "data": {
      "text/html": [
       "<div>\n",
       "<style scoped>\n",
       "    .dataframe tbody tr th:only-of-type {\n",
       "        vertical-align: middle;\n",
       "    }\n",
       "\n",
       "    .dataframe tbody tr th {\n",
       "        vertical-align: top;\n",
       "    }\n",
       "\n",
       "    .dataframe thead th {\n",
       "        text-align: right;\n",
       "    }\n",
       "</style>\n",
       "<table border=\"1\" class=\"dataframe\">\n",
       "  <thead>\n",
       "    <tr style=\"text-align: right;\">\n",
       "      <th></th>\n",
       "      <th></th>\n",
       "      <th></th>\n",
       "    </tr>\n",
       "    <tr>\n",
       "      <th></th>\n",
       "      <th></th>\n",
       "      <th></th>\n",
       "    </tr>\n",
       "  </thead>\n",
       "  <tbody>\n",
       "    <tr>\n",
       "      <th>Initiated</th>\n",
       "      <td>. . . . . . . . . . . . . . . . . .</td>\n",
       "      <td>17:02:38</td>\n",
       "    </tr>\n",
       "    <tr>\n",
       "      <th>Status</th>\n",
       "      <td>. . . . . . . . . . . . . . . . . .</td>\n",
       "      <td>Fitting 10 Folds</td>\n",
       "    </tr>\n",
       "    <tr>\n",
       "      <th>Estimator</th>\n",
       "      <td>. . . . . . . . . . . . . . . . . .</td>\n",
       "      <td>Ridge Classifier</td>\n",
       "    </tr>\n",
       "  </tbody>\n",
       "</table>\n",
       "</div>"
      ],
      "text/plain": [
       "                                                                \n",
       "                                                                \n",
       "Initiated  . . . . . . . . . . . . . . . . . .          17:02:38\n",
       "Status     . . . . . . . . . . . . . . . . . .  Fitting 10 Folds\n",
       "Estimator  . . . . . . . . . . . . . . . . . .  Ridge Classifier"
      ]
     },
     "metadata": {},
     "output_type": "display_data"
    },
    {
     "data": {
      "text/html": [
       "<style type=\"text/css\">\n",
       "#T_fcff7 th {\n",
       "  text-align: left;\n",
       "}\n",
       "#T_fcff7_row0_col0, #T_fcff7_row0_col1, #T_fcff7_row0_col2, #T_fcff7_row0_col3, #T_fcff7_row0_col4, #T_fcff7_row0_col5, #T_fcff7_row0_col6, #T_fcff7_row0_col7, #T_fcff7_row0_col8, #T_fcff7_row1_col0, #T_fcff7_row1_col1, #T_fcff7_row1_col2, #T_fcff7_row1_col3, #T_fcff7_row1_col4, #T_fcff7_row1_col5, #T_fcff7_row1_col6, #T_fcff7_row1_col7, #T_fcff7_row1_col8, #T_fcff7_row2_col0, #T_fcff7_row2_col1, #T_fcff7_row2_col2, #T_fcff7_row2_col3, #T_fcff7_row2_col4, #T_fcff7_row2_col5, #T_fcff7_row2_col6, #T_fcff7_row2_col7, #T_fcff7_row2_col8, #T_fcff7_row3_col0, #T_fcff7_row3_col1, #T_fcff7_row3_col2, #T_fcff7_row3_col3, #T_fcff7_row3_col4, #T_fcff7_row3_col5, #T_fcff7_row3_col6, #T_fcff7_row3_col7, #T_fcff7_row3_col8, #T_fcff7_row4_col0, #T_fcff7_row4_col1, #T_fcff7_row4_col2, #T_fcff7_row4_col3, #T_fcff7_row4_col4, #T_fcff7_row4_col5, #T_fcff7_row4_col6, #T_fcff7_row4_col7, #T_fcff7_row4_col8 {\n",
       "  text-align: left;\n",
       "}\n",
       "</style>\n",
       "<table id=\"T_fcff7\">\n",
       "  <thead>\n",
       "    <tr>\n",
       "      <th class=\"blank level0\" >&nbsp;</th>\n",
       "      <th id=\"T_fcff7_level0_col0\" class=\"col_heading level0 col0\" >Model</th>\n",
       "      <th id=\"T_fcff7_level0_col1\" class=\"col_heading level0 col1\" >Accuracy</th>\n",
       "      <th id=\"T_fcff7_level0_col2\" class=\"col_heading level0 col2\" >AUC</th>\n",
       "      <th id=\"T_fcff7_level0_col3\" class=\"col_heading level0 col3\" >Recall</th>\n",
       "      <th id=\"T_fcff7_level0_col4\" class=\"col_heading level0 col4\" >Prec.</th>\n",
       "      <th id=\"T_fcff7_level0_col5\" class=\"col_heading level0 col5\" >F1</th>\n",
       "      <th id=\"T_fcff7_level0_col6\" class=\"col_heading level0 col6\" >Kappa</th>\n",
       "      <th id=\"T_fcff7_level0_col7\" class=\"col_heading level0 col7\" >MCC</th>\n",
       "      <th id=\"T_fcff7_level0_col8\" class=\"col_heading level0 col8\" >TT (Sec)</th>\n",
       "    </tr>\n",
       "  </thead>\n",
       "  <tbody>\n",
       "    <tr>\n",
       "      <th id=\"T_fcff7_level0_row0\" class=\"row_heading level0 row0\" >lr</th>\n",
       "      <td id=\"T_fcff7_row0_col0\" class=\"data row0 col0\" >Logistic Regression</td>\n",
       "      <td id=\"T_fcff7_row0_col1\" class=\"data row0 col1\" >0.8742</td>\n",
       "      <td id=\"T_fcff7_row0_col2\" class=\"data row0 col2\" >0.9281</td>\n",
       "      <td id=\"T_fcff7_row0_col3\" class=\"data row0 col3\" >0.9112</td>\n",
       "      <td id=\"T_fcff7_row0_col4\" class=\"data row0 col4\" >0.8736</td>\n",
       "      <td id=\"T_fcff7_row0_col5\" class=\"data row0 col5\" >0.8905</td>\n",
       "      <td id=\"T_fcff7_row0_col6\" class=\"data row0 col6\" >0.7426</td>\n",
       "      <td id=\"T_fcff7_row0_col7\" class=\"data row0 col7\" >0.7472</td>\n",
       "      <td id=\"T_fcff7_row0_col8\" class=\"data row0 col8\" >5.1240</td>\n",
       "    </tr>\n",
       "    <tr>\n",
       "      <th id=\"T_fcff7_level0_row1\" class=\"row_heading level0 row1\" >nb</th>\n",
       "      <td id=\"T_fcff7_row1_col0\" class=\"data row1 col0\" >Naive Bayes</td>\n",
       "      <td id=\"T_fcff7_row1_col1\" class=\"data row1 col1\" >0.8545</td>\n",
       "      <td id=\"T_fcff7_row1_col2\" class=\"data row1 col2\" >0.9160</td>\n",
       "      <td id=\"T_fcff7_row1_col3\" class=\"data row1 col3\" >0.8709</td>\n",
       "      <td id=\"T_fcff7_row1_col4\" class=\"data row1 col4\" >0.8730</td>\n",
       "      <td id=\"T_fcff7_row1_col5\" class=\"data row1 col5\" >0.8706</td>\n",
       "      <td id=\"T_fcff7_row1_col6\" class=\"data row1 col6\" >0.7043</td>\n",
       "      <td id=\"T_fcff7_row1_col7\" class=\"data row1 col7\" >0.7079</td>\n",
       "      <td id=\"T_fcff7_row1_col8\" class=\"data row1 col8\" >2.6490</td>\n",
       "    </tr>\n",
       "    <tr>\n",
       "      <th id=\"T_fcff7_level0_row2\" class=\"row_heading level0 row2\" >dt</th>\n",
       "      <td id=\"T_fcff7_row2_col0\" class=\"data row2 col0\" >Decision Tree Classifier</td>\n",
       "      <td id=\"T_fcff7_row2_col1\" class=\"data row2 col1\" >0.7924</td>\n",
       "      <td id=\"T_fcff7_row2_col2\" class=\"data row2 col2\" >0.7899</td>\n",
       "      <td id=\"T_fcff7_row2_col3\" class=\"data row2 col3\" >0.8087</td>\n",
       "      <td id=\"T_fcff7_row2_col4\" class=\"data row2 col4\" >0.8220</td>\n",
       "      <td id=\"T_fcff7_row2_col5\" class=\"data row2 col5\" >0.8135</td>\n",
       "      <td id=\"T_fcff7_row2_col6\" class=\"data row2 col6\" >0.5789</td>\n",
       "      <td id=\"T_fcff7_row2_col7\" class=\"data row2 col7\" >0.5818</td>\n",
       "      <td id=\"T_fcff7_row2_col8\" class=\"data row2 col8\" >2.7950</td>\n",
       "    </tr>\n",
       "    <tr>\n",
       "      <th id=\"T_fcff7_level0_row3\" class=\"row_heading level0 row3\" >knn</th>\n",
       "      <td id=\"T_fcff7_row3_col0\" class=\"data row3 col0\" >K Neighbors Classifier</td>\n",
       "      <td id=\"T_fcff7_row3_col1\" class=\"data row3 col1\" >0.6955</td>\n",
       "      <td id=\"T_fcff7_row3_col2\" class=\"data row3 col2\" >0.7274</td>\n",
       "      <td id=\"T_fcff7_row3_col3\" class=\"data row3 col3\" >0.7497</td>\n",
       "      <td id=\"T_fcff7_row3_col4\" class=\"data row3 col4\" >0.7228</td>\n",
       "      <td id=\"T_fcff7_row3_col5\" class=\"data row3 col5\" >0.7336</td>\n",
       "      <td id=\"T_fcff7_row3_col6\" class=\"data row3 col6\" >0.3782</td>\n",
       "      <td id=\"T_fcff7_row3_col7\" class=\"data row3 col7\" >0.3819</td>\n",
       "      <td id=\"T_fcff7_row3_col8\" class=\"data row3 col8\" >2.7010</td>\n",
       "    </tr>\n",
       "    <tr>\n",
       "      <th id=\"T_fcff7_level0_row4\" class=\"row_heading level0 row4\" >svm</th>\n",
       "      <td id=\"T_fcff7_row4_col0\" class=\"data row4 col0\" >SVM - Linear Kernel</td>\n",
       "      <td id=\"T_fcff7_row4_col1\" class=\"data row4 col1\" >0.6242</td>\n",
       "      <td id=\"T_fcff7_row4_col2\" class=\"data row4 col2\" >0.0000</td>\n",
       "      <td id=\"T_fcff7_row4_col3\" class=\"data row4 col3\" >0.7205</td>\n",
       "      <td id=\"T_fcff7_row4_col4\" class=\"data row4 col4\" >0.7322</td>\n",
       "      <td id=\"T_fcff7_row4_col5\" class=\"data row4 col5\" >0.6598</td>\n",
       "      <td id=\"T_fcff7_row4_col6\" class=\"data row4 col6\" >0.2160</td>\n",
       "      <td id=\"T_fcff7_row4_col7\" class=\"data row4 col7\" >0.2844</td>\n",
       "      <td id=\"T_fcff7_row4_col8\" class=\"data row4 col8\" >3.1090</td>\n",
       "    </tr>\n",
       "  </tbody>\n",
       "</table>\n"
      ],
      "text/plain": [
       "<pandas.io.formats.style.Styler at 0x1e49592a280>"
      ]
     },
     "metadata": {},
     "output_type": "display_data"
    },
    {
     "data": {
      "application/vnd.jupyter.widget-view+json": {
       "model_id": "09e6bdfc65af45999764c6d857889732",
       "version_major": 2,
       "version_minor": 0
      },
      "text/plain": [
       "Processing:   0%|          | 0/65 [00:00<?, ?it/s]"
      ]
     },
     "metadata": {},
     "output_type": "display_data"
    }
   ],
   "source": [
    "best_model = compare_models()"
   ]
  },
  {
   "cell_type": "markdown",
   "metadata": {},
   "source": [
    "Ridge Classifer is the best performing model as we can see in the results above"
   ]
  },
  {
   "cell_type": "markdown",
   "metadata": {},
   "source": [
    "### Create using a specific algorithm"
   ]
  },
  {
   "cell_type": "code",
   "execution_count": null,
   "metadata": {},
   "outputs": [],
   "source": [
    "#best_model = create_model('<algorithm_id>')"
   ]
  },
  {
   "cell_type": "code",
   "execution_count": null,
   "metadata": {
    "tags": []
   },
   "outputs": [],
   "source": [
    "print(best_model)"
   ]
  },
  {
   "cell_type": "markdown",
   "metadata": {},
   "source": [
    "### Tune model\n",
    "\n",
    "Tune model optimised on 'F1' score using 10 iterations"
   ]
  },
  {
   "cell_type": "code",
   "execution_count": null,
   "metadata": {
    "pycharm": {
     "name": "#%%\n"
    },
    "tags": []
   },
   "outputs": [],
   "source": [
    "tuned_best = tune_model(best_model, optimize='F1', n_iter=10, choose_better=True )"
   ]
  },
  {
   "cell_type": "code",
   "execution_count": null,
   "metadata": {
    "pycharm": {
     "name": "#%%\n"
    },
    "tags": []
   },
   "outputs": [],
   "source": [
    "print(tuned_best)"
   ]
  },
  {
   "cell_type": "markdown",
   "metadata": {},
   "source": [
    "### Evaluate model performance"
   ]
  },
  {
   "cell_type": "code",
   "execution_count": null,
   "metadata": {},
   "outputs": [],
   "source": [
    "plot_model(tuned_best, plot = 'confusion_matrix', plot_kwargs = {'percent' : True})"
   ]
  },
  {
   "cell_type": "markdown",
   "metadata": {},
   "source": [
    "Confusion matrix shows an accuracy of 87% for both categories when predicting the test data"
   ]
  },
  {
   "cell_type": "code",
   "execution_count": null,
   "metadata": {},
   "outputs": [],
   "source": [
    "plot_model(tuned_best,plot='class_report')"
   ]
  },
  {
   "cell_type": "markdown",
   "metadata": {},
   "source": [
    "The class report shows the various metrics and there performance of predicitng if an individual will have HeartDisease attack. From the Class report,we can see that we have a very strong values for our precission,recalla and F1 which implies that our model gives us a better accuracy in predicting if an individual would have HeartDiseas attack"
   ]
  },
  {
   "cell_type": "code",
   "execution_count": null,
   "metadata": {},
   "outputs": [],
   "source": [
    "plot_model(tuned_best,plot='learning')"
   ]
  },
  {
   "cell_type": "markdown",
   "metadata": {},
   "source": [
    "The learning curve is good with both the cross validation and training scores converging,Since the crossvalidation and the training score converges then it means that no additional data is required."
   ]
  },
  {
   "cell_type": "code",
   "execution_count": null,
   "metadata": {},
   "outputs": [],
   "source": [
    "plot_model(tuned_best,plot='feature_all')"
   ]
  },
  {
   "cell_type": "markdown",
   "metadata": {},
   "source": [
    "All of the features attributes are used by the algorithm. The most important are \"Sex\",\"ST_Slope_Up\",\"ST_Slope_Flat,\"ChestPainType_ASY\",\"ExerciseAngina\""
   ]
  },
  {
   "cell_type": "code",
   "execution_count": null,
   "metadata": {},
   "outputs": [],
   "source": []
  },
  {
   "cell_type": "markdown",
   "metadata": {},
   "source": [
    "### Make predictions on test data"
   ]
  },
  {
   "cell_type": "code",
   "execution_count": null,
   "metadata": {
    "pycharm": {
     "name": "#%%\n"
    }
   },
   "outputs": [],
   "source": [
    "predict_model(tuned_best)"
   ]
  },
  {
   "cell_type": "markdown",
   "metadata": {},
   "source": [
    "High metric values when predicting using the test data.This shows that our model is very efficinet in making predictions if an individual would have HeartDisease attack"
   ]
  },
  {
   "cell_type": "markdown",
   "metadata": {},
   "source": [
    "### Finalise and save model"
   ]
  },
  {
   "cell_type": "code",
   "execution_count": null,
   "metadata": {
    "pycharm": {
     "name": "#%%\n"
    }
   },
   "outputs": [],
   "source": [
    "final_model = finalize_model(tuned_best)"
   ]
  },
  {
   "cell_type": "code",
   "execution_count": null,
   "metadata": {
    "pycharm": {
     "name": "#%%\n"
    }
   },
   "outputs": [],
   "source": [
    "save_model(final_model,'HeartDiseaseModel')"
   ]
  },
  {
   "cell_type": "markdown",
   "metadata": {},
   "source": [
    "### Load model"
   ]
  },
  {
   "cell_type": "code",
   "execution_count": null,
   "metadata": {
    "collapsed": false,
    "jupyter": {
     "outputs_hidden": false
    },
    "pycharm": {
     "name": "#%%\n"
    }
   },
   "outputs": [],
   "source": [
    "saved_final = load_model('HeartDiseaseModel')"
   ]
  },
  {
   "cell_type": "markdown",
   "metadata": {},
   "source": [
    "### Make predictions on unseen data"
   ]
  },
  {
   "cell_type": "code",
   "execution_count": null,
   "metadata": {
    "collapsed": false,
    "jupyter": {
     "outputs_hidden": false
    },
    "pycharm": {
     "name": "#%%\n"
    }
   },
   "outputs": [],
   "source": [
    "new_prediction = predict_model(saved_final, data=evaluationData)"
   ]
  },
  {
   "cell_type": "code",
   "execution_count": null,
   "metadata": {
    "collapsed": false,
    "jupyter": {
     "outputs_hidden": false
    },
    "pycharm": {
     "name": "#%%\n"
    }
   },
   "outputs": [],
   "source": [
    "new_prediction.head()"
   ]
  },
  {
   "cell_type": "code",
   "execution_count": null,
   "metadata": {},
   "outputs": [],
   "source": []
  },
  {
   "cell_type": "code",
   "execution_count": null,
   "metadata": {},
   "outputs": [],
   "source": []
  }
 ],
 "metadata": {
  "kernelspec": {
   "display_name": "MicroML",
   "language": "python",
   "name": "microml"
  },
  "language_info": {
   "codemirror_mode": {
    "name": "ipython",
    "version": 3
   },
   "file_extension": ".py",
   "mimetype": "text/x-python",
   "name": "python",
   "nbconvert_exporter": "python",
   "pygments_lexer": "ipython3",
   "version": "3.9.16"
  }
 },
 "nbformat": 4,
 "nbformat_minor": 4
}
